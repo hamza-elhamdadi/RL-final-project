{
 "cells": [
  {
   "cell_type": "code",
   "execution_count": 2,
   "metadata": {},
   "outputs": [],
   "source": [
    "from MDP import MountainCar, CartPole\n",
    "from RLAlgorithms import ESGNStepSARSA, TrueOnlineSARSALambda\n",
    "import matplotlib.pyplot as plt\n",
    "import numpy as np"
   ]
  },
  {
   "cell_type": "code",
   "execution_count": null,
   "metadata": {},
   "outputs": [],
   "source": [
    "mc = CartPole()\n",
    "# print(mc.s)\n",
    "alg = ESGNStepSARSA(mc, M=10, n=2)\n",
    "\n",
    "Gs = alg.run()\n",
    "\n",
    "plt.clf()\n",
    "plt.plot(range(len(Gs)), Gs)"
   ]
  }
 ],
 "metadata": {
  "kernelspec": {
   "display_name": ".venv",
   "language": "python",
   "name": "python3"
  },
  "language_info": {
   "codemirror_mode": {
    "name": "ipython",
    "version": 3
   },
   "file_extension": ".py",
   "mimetype": "text/x-python",
   "name": "python",
   "nbconvert_exporter": "python",
   "pygments_lexer": "ipython3",
   "version": "3.9.6"
  }
 },
 "nbformat": 4,
 "nbformat_minor": 2
}
