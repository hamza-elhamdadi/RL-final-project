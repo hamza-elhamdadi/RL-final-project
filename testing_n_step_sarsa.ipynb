{
 "cells": [
  {
   "cell_type": "code",
   "execution_count": 1,
   "metadata": {},
   "outputs": [],
   "source": [
    "from MDP import MountainCar, CartPole\n",
    "from RLAlgorithms import ESGNStepSARSA, TrueOnlineSARSALambda\n",
    "import matplotlib.pyplot as plt\n",
    "import numpy as np"
   ]
  },
  {
   "cell_type": "code",
   "execution_count": 7,
   "metadata": {},
   "outputs": [
    {
     "name": "stderr",
     "output_type": "stream",
     "text": [
      "  2%|▏         | 38/2000 [00:00<00:05, 373.43it/s]"
     ]
    },
    {
     "name": "stdout",
     "output_type": "stream",
     "text": [
      "M: 2\n"
     ]
    },
    {
     "name": "stderr",
     "output_type": "stream",
     "text": [
      "100%|██████████| 2000/2000 [00:04<00:00, 413.04it/s]\n",
      "100%|██████████| 2000/2000 [00:04<00:00, 420.38it/s]\n",
      "100%|██████████| 2000/2000 [00:04<00:00, 419.11it/s]\n",
      "100%|██████████| 2000/2000 [00:04<00:00, 419.73it/s]\n",
      "100%|██████████| 2000/2000 [00:04<00:00, 421.20it/s]\n",
      "100%|██████████| 2000/2000 [00:04<00:00, 417.26it/s]\n",
      "100%|██████████| 2000/2000 [00:04<00:00, 403.00it/s]\n",
      "100%|██████████| 2000/2000 [00:04<00:00, 420.06it/s]\n",
      "100%|██████████| 2000/2000 [00:04<00:00, 421.58it/s]\n",
      "100%|██████████| 2000/2000 [00:04<00:00, 422.91it/s]\n",
      "100%|██████████| 2000/2000 [00:04<00:00, 422.23it/s]\n",
      "100%|██████████| 2000/2000 [00:04<00:00, 420.02it/s]\n",
      "100%|██████████| 2000/2000 [00:04<00:00, 418.20it/s]\n",
      "100%|██████████| 2000/2000 [00:04<00:00, 410.33it/s]\n",
      "100%|██████████| 2000/2000 [00:04<00:00, 409.97it/s]\n",
      "100%|██████████| 2000/2000 [00:04<00:00, 407.89it/s]\n",
      "100%|██████████| 2000/2000 [00:04<00:00, 417.13it/s]\n",
      "100%|██████████| 2000/2000 [00:04<00:00, 416.86it/s]\n",
      "100%|██████████| 2000/2000 [00:04<00:00, 414.45it/s]\n",
      "100%|██████████| 2000/2000 [00:04<00:00, 421.20it/s]\n",
      "  2%|▏         | 38/2000 [00:00<00:05, 376.42it/s]"
     ]
    },
    {
     "name": "stdout",
     "output_type": "stream",
     "text": [
      "M: 3\n"
     ]
    },
    {
     "name": "stderr",
     "output_type": "stream",
     "text": [
      "100%|██████████| 2000/2000 [00:05<00:00, 349.66it/s]\n",
      "100%|██████████| 2000/2000 [00:05<00:00, 352.54it/s]\n",
      "100%|██████████| 2000/2000 [00:05<00:00, 352.45it/s]\n",
      "100%|██████████| 2000/2000 [00:05<00:00, 346.11it/s]\n",
      "100%|██████████| 2000/2000 [00:05<00:00, 363.06it/s]\n",
      "100%|██████████| 2000/2000 [00:05<00:00, 362.46it/s]\n",
      "100%|██████████| 2000/2000 [00:05<00:00, 362.01it/s]\n",
      "100%|██████████| 2000/2000 [00:05<00:00, 363.82it/s]\n",
      "100%|██████████| 2000/2000 [00:05<00:00, 361.95it/s]\n",
      "100%|██████████| 2000/2000 [00:05<00:00, 363.88it/s]\n",
      "100%|██████████| 2000/2000 [00:05<00:00, 356.53it/s]\n",
      "100%|██████████| 2000/2000 [00:05<00:00, 354.27it/s]\n",
      "100%|██████████| 2000/2000 [00:05<00:00, 363.94it/s]\n",
      "100%|██████████| 2000/2000 [00:05<00:00, 353.20it/s]\n",
      "100%|██████████| 2000/2000 [00:05<00:00, 364.95it/s]\n",
      "100%|██████████| 2000/2000 [00:05<00:00, 365.10it/s]\n",
      "100%|██████████| 2000/2000 [00:05<00:00, 366.61it/s]\n",
      "100%|██████████| 2000/2000 [00:05<00:00, 354.83it/s]\n",
      "100%|██████████| 2000/2000 [00:05<00:00, 350.97it/s]\n",
      "100%|██████████| 2000/2000 [00:05<00:00, 363.01it/s]\n",
      "  3%|▎         | 61/2000 [00:00<00:06, 303.80it/s]"
     ]
    },
    {
     "name": "stdout",
     "output_type": "stream",
     "text": [
      "M: 5\n"
     ]
    },
    {
     "name": "stderr",
     "output_type": "stream",
     "text": [
      "100%|██████████| 2000/2000 [00:08<00:00, 249.16it/s]\n",
      "100%|██████████| 2000/2000 [00:08<00:00, 247.05it/s]\n",
      "100%|██████████| 2000/2000 [00:07<00:00, 274.54it/s]\n",
      "100%|██████████| 2000/2000 [00:08<00:00, 248.18it/s]\n",
      "100%|██████████| 2000/2000 [00:07<00:00, 252.43it/s]\n",
      "100%|██████████| 2000/2000 [00:08<00:00, 247.15it/s]\n",
      "100%|██████████| 2000/2000 [00:08<00:00, 244.96it/s]\n",
      "100%|██████████| 2000/2000 [00:07<00:00, 281.47it/s]\n",
      "100%|██████████| 2000/2000 [00:08<00:00, 223.65it/s]\n",
      "100%|██████████| 2000/2000 [00:07<00:00, 253.34it/s]\n",
      "100%|██████████| 2000/2000 [00:07<00:00, 270.69it/s]\n",
      "100%|██████████| 2000/2000 [00:07<00:00, 258.65it/s]\n",
      "100%|██████████| 2000/2000 [00:07<00:00, 279.54it/s]\n",
      "100%|██████████| 2000/2000 [00:10<00:00, 190.32it/s]\n",
      "100%|██████████| 2000/2000 [00:07<00:00, 282.88it/s]\n",
      "100%|██████████| 2000/2000 [00:07<00:00, 279.04it/s]\n",
      "100%|██████████| 2000/2000 [00:07<00:00, 276.19it/s]\n",
      "100%|██████████| 2000/2000 [00:08<00:00, 246.70it/s]\n",
      "100%|██████████| 2000/2000 [00:07<00:00, 278.96it/s]\n",
      "100%|██████████| 2000/2000 [00:07<00:00, 278.56it/s]\n",
      "  2%|▏         | 47/2000 [00:00<00:08, 236.52it/s]"
     ]
    },
    {
     "name": "stdout",
     "output_type": "stream",
     "text": [
      "M: 8\n"
     ]
    },
    {
     "name": "stderr",
     "output_type": "stream",
     "text": [
      "100%|██████████| 2000/2000 [00:18<00:00, 108.08it/s]\n",
      "100%|██████████| 2000/2000 [00:18<00:00, 110.48it/s]\n",
      "100%|██████████| 2000/2000 [00:19<00:00, 103.36it/s]\n",
      "100%|██████████| 2000/2000 [00:20<00:00, 95.85it/s] \n",
      "100%|██████████| 2000/2000 [00:21<00:00, 94.30it/s] \n",
      "100%|██████████| 2000/2000 [00:20<00:00, 97.80it/s] \n",
      "100%|██████████| 2000/2000 [00:17<00:00, 112.21it/s]\n",
      "100%|██████████| 2000/2000 [00:15<00:00, 126.80it/s]\n",
      "100%|██████████| 2000/2000 [00:18<00:00, 109.40it/s]\n",
      "100%|██████████| 2000/2000 [00:20<00:00, 97.25it/s] \n",
      "100%|██████████| 2000/2000 [00:19<00:00, 105.09it/s]\n",
      "100%|██████████| 2000/2000 [00:20<00:00, 97.46it/s] \n",
      "100%|██████████| 2000/2000 [00:17<00:00, 115.29it/s]\n",
      "100%|██████████| 2000/2000 [00:17<00:00, 114.18it/s]\n",
      "100%|██████████| 2000/2000 [00:20<00:00, 99.04it/s] \n",
      "100%|██████████| 2000/2000 [00:18<00:00, 110.11it/s]\n",
      "100%|██████████| 2000/2000 [00:21<00:00, 92.15it/s] \n",
      "100%|██████████| 2000/2000 [00:15<00:00, 132.54it/s]\n",
      "100%|██████████| 2000/2000 [00:18<00:00, 106.91it/s]\n",
      "100%|██████████| 2000/2000 [00:15<00:00, 130.74it/s]\n"
     ]
    },
    {
     "data": {
      "image/png": "[encoded data removed]",
      "text/plain": [
       "<Figure size 432x288 with 1 Axes>"
      ]
     },
     "metadata": {
      "needs_background": "light"
     },
     "output_type": "display_data"
    }
   ],
   "source": [
    "num_trials = 20\n",
    "cp = CartPole()\n",
    "\n",
    "for M in [2, 3, 5, 8, 10, 15][-2:]:\n",
    "    \n",
    "    print('M:',M)\n",
    "    alg = ESGNStepSARSA(cp, M=M, n=5, alpha=0.01, epsilon=0.1, approach='epsilon-greedy')\n",
    "    Gs = np.zeros(alg.num_episodes)\n",
    "\n",
    "    for _ in range(num_trials):\n",
    "        alg.reset()\n",
    "        Gs += np.array(alg.run())\n",
    "\n",
    "    Gs /= num_trials\n",
    "\n",
    "    plt.clf()\n",
    "    plt.plot(range(len(Gs)), Gs)\n",
    "    plt.savefig(f'experiments/nStepSARSA/CartPole/M-{M}.png', facecolor='white')"
   ]
  },
  {
   "cell_type": "code",
   "execution_count": 4,
   "metadata": {},
   "outputs": [
    {
     "name": "stderr",
     "output_type": "stream",
     "text": [
      "  1%|          | 20/2000 [00:00<00:20, 96.03it/s]"
     ]
    },
    {
     "name": "stdout",
     "output_type": "stream",
     "text": [
      "epsilon: 0.2\n"
     ]
    },
    {
     "name": "stderr",
     "output_type": "stream",
     "text": [
      "100%|██████████| 2000/2000 [00:15<00:00, 125.12it/s]\n",
      "100%|██████████| 2000/2000 [00:16<00:00, 121.61it/s]\n",
      "100%|██████████| 2000/2000 [00:16<00:00, 122.83it/s]\n",
      "100%|██████████| 2000/2000 [00:15<00:00, 128.55it/s]\n",
      "100%|██████████| 2000/2000 [00:16<00:00, 121.44it/s]\n",
      "100%|██████████| 2000/2000 [00:15<00:00, 125.12it/s]\n",
      "100%|██████████| 2000/2000 [00:16<00:00, 123.78it/s]\n",
      "100%|██████████| 2000/2000 [00:16<00:00, 120.88it/s]\n",
      "100%|██████████| 2000/2000 [00:16<00:00, 124.04it/s]\n",
      "100%|██████████| 2000/2000 [00:15<00:00, 127.89it/s]\n",
      "100%|██████████| 2000/2000 [00:15<00:00, 125.04it/s]\n",
      "100%|██████████| 2000/2000 [00:16<00:00, 120.58it/s]\n",
      "100%|██████████| 2000/2000 [00:16<00:00, 119.51it/s]\n",
      "100%|██████████| 2000/2000 [00:16<00:00, 123.45it/s]\n",
      "100%|██████████| 2000/2000 [00:15<00:00, 132.55it/s]\n",
      "100%|██████████| 2000/2000 [00:15<00:00, 132.29it/s]\n",
      "100%|██████████| 2000/2000 [00:15<00:00, 131.00it/s]\n",
      "100%|██████████| 2000/2000 [00:15<00:00, 127.91it/s]\n",
      "100%|██████████| 2000/2000 [00:15<00:00, 131.33it/s]\n",
      "100%|██████████| 2000/2000 [00:15<00:00, 130.96it/s]\n",
      "  2%|▏         | 37/2000 [00:00<00:10, 182.56it/s]"
     ]
    },
    {
     "name": "stdout",
     "output_type": "stream",
     "text": [
      "epsilon: 0.1\n"
     ]
    },
    {
     "name": "stderr",
     "output_type": "stream",
     "text": [
      "100%|██████████| 2000/2000 [00:15<00:00, 131.44it/s]\n",
      "100%|██████████| 2000/2000 [00:14<00:00, 134.71it/s]\n",
      "100%|██████████| 2000/2000 [00:15<00:00, 132.35it/s]\n",
      "100%|██████████| 2000/2000 [00:14<00:00, 134.22it/s]\n",
      "100%|██████████| 2000/2000 [00:15<00:00, 132.21it/s]\n",
      "100%|██████████| 2000/2000 [00:15<00:00, 129.16it/s]\n",
      "100%|██████████| 2000/2000 [00:15<00:00, 131.72it/s]\n",
      "100%|██████████| 2000/2000 [00:15<00:00, 131.45it/s]\n",
      "100%|██████████| 2000/2000 [00:15<00:00, 129.68it/s]\n",
      "100%|██████████| 2000/2000 [00:15<00:00, 130.93it/s]\n",
      "100%|██████████| 2000/2000 [00:15<00:00, 131.48it/s]\n",
      "100%|██████████| 2000/2000 [00:15<00:00, 128.89it/s]\n",
      "100%|██████████| 2000/2000 [00:15<00:00, 126.91it/s]\n",
      "100%|██████████| 2000/2000 [00:15<00:00, 129.33it/s]\n",
      "100%|██████████| 2000/2000 [00:15<00:00, 127.47it/s]\n",
      "100%|██████████| 2000/2000 [00:17<00:00, 114.92it/s]\n",
      "100%|██████████| 2000/2000 [00:17<00:00, 116.82it/s]\n",
      "100%|██████████| 2000/2000 [00:15<00:00, 128.41it/s]\n",
      "100%|██████████| 2000/2000 [00:15<00:00, 128.42it/s]\n",
      "100%|██████████| 2000/2000 [00:15<00:00, 131.38it/s]\n",
      "  2%|▏         | 30/2000 [00:00<00:13, 145.68it/s]"
     ]
    },
    {
     "name": "stdout",
     "output_type": "stream",
     "text": [
      "epsilon: 0.05\n"
     ]
    },
    {
     "name": "stderr",
     "output_type": "stream",
     "text": [
      "100%|██████████| 2000/2000 [00:15<00:00, 129.81it/s]\n",
      "100%|██████████| 2000/2000 [00:15<00:00, 129.24it/s]\n",
      "100%|██████████| 2000/2000 [00:15<00:00, 128.64it/s]\n",
      "100%|██████████| 2000/2000 [00:14<00:00, 134.50it/s]\n",
      "100%|██████████| 2000/2000 [00:15<00:00, 128.65it/s]\n",
      "100%|██████████| 2000/2000 [00:15<00:00, 126.89it/s]\n",
      "100%|██████████| 2000/2000 [00:16<00:00, 124.97it/s]\n",
      "100%|██████████| 2000/2000 [00:17<00:00, 115.24it/s]\n",
      "100%|██████████| 2000/2000 [00:16<00:00, 122.40it/s]\n",
      "100%|██████████| 2000/2000 [00:17<00:00, 117.47it/s]\n",
      "100%|██████████| 2000/2000 [00:17<00:00, 115.44it/s]\n",
      "100%|██████████| 2000/2000 [00:17<00:00, 114.93it/s]\n",
      "100%|██████████| 2000/2000 [00:17<00:00, 116.67it/s]\n",
      "100%|██████████| 2000/2000 [00:15<00:00, 127.75it/s]\n",
      "100%|██████████| 2000/2000 [00:15<00:00, 129.54it/s]\n",
      "100%|██████████| 2000/2000 [00:15<00:00, 131.21it/s]\n",
      "100%|██████████| 2000/2000 [00:15<00:00, 130.48it/s]\n",
      "100%|██████████| 2000/2000 [00:15<00:00, 129.22it/s]\n",
      "100%|██████████| 2000/2000 [00:15<00:00, 130.42it/s]\n",
      "100%|██████████| 2000/2000 [00:15<00:00, 130.36it/s]\n",
      "  2%|▏         | 38/2000 [00:00<00:10, 183.28it/s]"
     ]
    },
    {
     "name": "stdout",
     "output_type": "stream",
     "text": [
      "epsilon: 0.01\n"
     ]
    },
    {
     "name": "stderr",
     "output_type": "stream",
     "text": [
      "100%|██████████| 2000/2000 [00:15<00:00, 132.93it/s]\n",
      "100%|██████████| 2000/2000 [00:15<00:00, 129.62it/s]\n",
      "100%|██████████| 2000/2000 [00:15<00:00, 130.80it/s]\n",
      "100%|██████████| 2000/2000 [00:15<00:00, 130.65it/s]\n",
      "100%|██████████| 2000/2000 [00:15<00:00, 129.86it/s]\n",
      "100%|██████████| 2000/2000 [00:15<00:00, 131.98it/s]\n",
      "100%|██████████| 2000/2000 [00:15<00:00, 130.44it/s]\n",
      "100%|██████████| 2000/2000 [00:15<00:00, 132.57it/s]\n",
      "100%|██████████| 2000/2000 [00:15<00:00, 129.66it/s]\n",
      "100%|██████████| 2000/2000 [00:15<00:00, 129.36it/s]\n",
      "100%|██████████| 2000/2000 [00:15<00:00, 130.22it/s]\n",
      "100%|██████████| 2000/2000 [00:15<00:00, 129.72it/s]\n",
      "100%|██████████| 2000/2000 [00:15<00:00, 132.60it/s]\n",
      "100%|██████████| 2000/2000 [00:15<00:00, 130.70it/s]\n",
      "100%|██████████| 2000/2000 [00:15<00:00, 131.35it/s]\n",
      "100%|██████████| 2000/2000 [00:15<00:00, 131.42it/s]\n",
      "100%|██████████| 2000/2000 [00:15<00:00, 132.22it/s]\n",
      "100%|██████████| 2000/2000 [00:14<00:00, 134.13it/s]\n",
      "100%|██████████| 2000/2000 [00:15<00:00, 132.05it/s]\n",
      "100%|██████████| 2000/2000 [00:14<00:00, 134.01it/s]\n",
      "  1%|          | 22/2000 [00:00<00:19, 104.07it/s]"
     ]
    },
    {
     "name": "stdout",
     "output_type": "stream",
     "text": [
      "epsilon: 0.005\n"
     ]
    },
    {
     "name": "stderr",
     "output_type": "stream",
     "text": [
      "100%|██████████| 2000/2000 [00:15<00:00, 129.54it/s]\n",
      "100%|██████████| 2000/2000 [00:15<00:00, 132.64it/s]\n",
      "100%|██████████| 2000/2000 [00:15<00:00, 129.48it/s]\n",
      "100%|██████████| 2000/2000 [00:15<00:00, 130.53it/s]\n",
      "100%|██████████| 2000/2000 [00:15<00:00, 130.73it/s]\n",
      "100%|██████████| 2000/2000 [00:15<00:00, 131.29it/s]\n",
      "100%|██████████| 2000/2000 [00:15<00:00, 132.47it/s]\n",
      "100%|██████████| 2000/2000 [00:14<00:00, 135.92it/s]\n",
      "100%|██████████| 2000/2000 [00:15<00:00, 132.91it/s]\n",
      "100%|██████████| 2000/2000 [00:15<00:00, 131.19it/s]\n",
      "100%|██████████| 2000/2000 [00:16<00:00, 121.70it/s]\n",
      "100%|██████████| 2000/2000 [00:16<00:00, 120.37it/s]\n",
      "100%|██████████| 2000/2000 [00:15<00:00, 131.92it/s]\n",
      "100%|██████████| 2000/2000 [00:14<00:00, 134.06it/s]\n",
      "100%|██████████| 2000/2000 [00:15<00:00, 129.74it/s]\n",
      "100%|██████████| 2000/2000 [00:15<00:00, 131.14it/s]\n",
      "100%|██████████| 2000/2000 [00:15<00:00, 130.39it/s]\n",
      "100%|██████████| 2000/2000 [00:15<00:00, 130.77it/s]\n",
      "100%|██████████| 2000/2000 [00:15<00:00, 131.47it/s]\n",
      "100%|██████████| 2000/2000 [00:15<00:00, 129.74it/s]\n",
      "  2%|▏         | 34/2000 [00:00<00:11, 167.10it/s]"
     ]
    },
    {
     "name": "stdout",
     "output_type": "stream",
     "text": [
      "epsilon: 0.001\n"
     ]
    },
    {
     "name": "stderr",
     "output_type": "stream",
     "text": [
      "100%|██████████| 2000/2000 [00:15<00:00, 130.78it/s]\n",
      "100%|██████████| 2000/2000 [00:15<00:00, 129.75it/s]\n",
      "100%|██████████| 2000/2000 [00:15<00:00, 133.21it/s]\n",
      "100%|██████████| 2000/2000 [00:15<00:00, 130.22it/s]\n",
      "100%|██████████| 2000/2000 [00:15<00:00, 128.84it/s]\n",
      "100%|██████████| 2000/2000 [00:15<00:00, 127.18it/s]\n",
      "100%|██████████| 2000/2000 [00:15<00:00, 130.73it/s]\n",
      "100%|██████████| 2000/2000 [00:15<00:00, 130.68it/s]\n",
      "100%|██████████| 2000/2000 [00:15<00:00, 131.18it/s]\n",
      "100%|██████████| 2000/2000 [00:15<00:00, 132.49it/s]\n",
      "100%|██████████| 2000/2000 [00:15<00:00, 131.71it/s]\n",
      "100%|██████████| 2000/2000 [00:15<00:00, 131.65it/s]\n",
      "100%|██████████| 2000/2000 [00:15<00:00, 127.93it/s]\n",
      "100%|██████████| 2000/2000 [00:15<00:00, 126.96it/s]\n",
      "100%|██████████| 2000/2000 [00:15<00:00, 131.46it/s]\n",
      "100%|██████████| 2000/2000 [00:15<00:00, 131.74it/s]\n",
      "100%|██████████| 2000/2000 [00:15<00:00, 132.81it/s]\n",
      "100%|██████████| 2000/2000 [00:15<00:00, 133.21it/s]\n",
      "100%|██████████| 2000/2000 [00:15<00:00, 132.31it/s]\n",
      "100%|██████████| 2000/2000 [00:15<00:00, 125.72it/s]\n"
     ]
    },
    {
     "data": {
      "image/png": "[encoded data removed]",
      "text/plain": [
       "<Figure size 432x288 with 1 Axes>"
      ]
     },
     "metadata": {
      "needs_background": "light"
     },
     "output_type": "display_data"
    }
   ],
   "source": [
    "num_trials = 20\n",
    "cp = CartPole()\n",
    "\n",
    "for epsilon in [0.2, 0.1, 0.05, 0.01, 0.005, 0.001]:\n",
    "    print('epsilon:',epsilon)\n",
    "    alg = ESGNStepSARSA(cp, M=10, n=5, alpha=0.01, approach='softmax')\n",
    "    Gs = np.zeros(alg.num_episodes)\n",
    "\n",
    "    for _ in range(num_trials):\n",
    "        alg.reset()\n",
    "        Gs += np.array(alg.run())\n",
    "\n",
    "    Gs /= num_trials\n",
    "\n",
    "    plt.clf()\n",
    "    plt.plot(range(len(Gs)), Gs)\n",
    "    plt.savefig(f'experiments/nStepSARSA/CartPole/epsilon-{epsilon}.png', facecolor='white')"
   ]
  },
  {
   "cell_type": "code",
   "execution_count": 3,
   "metadata": {},
   "outputs": [
    {
     "name": "stderr",
     "output_type": "stream",
     "text": [
      "  1%|          | 24/2000 [00:00<00:16, 116.59it/s]"
     ]
    },
    {
     "name": "stdout",
     "output_type": "stream",
     "text": [
      "alpha: 0.1\n"
     ]
    },
    {
     "name": "stderr",
     "output_type": "stream",
     "text": [
      "100%|██████████| 2000/2000 [00:14<00:00, 134.30it/s]\n",
      "100%|██████████| 2000/2000 [00:15<00:00, 130.44it/s]\n",
      "100%|██████████| 2000/2000 [00:15<00:00, 132.39it/s]\n",
      "100%|██████████| 2000/2000 [00:14<00:00, 133.69it/s]\n",
      "100%|██████████| 2000/2000 [00:14<00:00, 138.23it/s]\n",
      "100%|██████████| 2000/2000 [00:14<00:00, 137.97it/s]\n",
      "100%|██████████| 2000/2000 [00:14<00:00, 138.10it/s]\n",
      "100%|██████████| 2000/2000 [00:14<00:00, 139.43it/s]\n",
      "100%|██████████| 2000/2000 [00:14<00:00, 134.71it/s]\n",
      "100%|██████████| 2000/2000 [00:14<00:00, 138.42it/s]\n",
      "100%|██████████| 2000/2000 [00:15<00:00, 132.43it/s]\n",
      "100%|██████████| 2000/2000 [00:14<00:00, 134.14it/s]\n",
      "100%|██████████| 2000/2000 [00:14<00:00, 140.00it/s]\n",
      "100%|██████████| 2000/2000 [00:15<00:00, 130.60it/s]\n",
      "100%|██████████| 2000/2000 [00:14<00:00, 134.46it/s]\n",
      "100%|██████████| 2000/2000 [00:14<00:00, 136.86it/s]\n",
      "100%|██████████| 2000/2000 [00:14<00:00, 136.92it/s]\n",
      "100%|██████████| 2000/2000 [00:14<00:00, 136.90it/s]\n",
      "100%|██████████| 2000/2000 [00:14<00:00, 135.45it/s]\n",
      "100%|██████████| 2000/2000 [00:14<00:00, 138.77it/s]\n",
      "  1%|▏         | 29/2000 [00:00<00:13, 147.19it/s]"
     ]
    },
    {
     "name": "stdout",
     "output_type": "stream",
     "text": [
      "alpha: 0.01\n"
     ]
    },
    {
     "name": "stderr",
     "output_type": "stream",
     "text": [
      "100%|██████████| 2000/2000 [00:15<00:00, 126.34it/s]\n",
      "100%|██████████| 2000/2000 [00:15<00:00, 127.31it/s]\n",
      "100%|██████████| 2000/2000 [00:15<00:00, 129.01it/s]\n",
      "100%|██████████| 2000/2000 [00:15<00:00, 126.30it/s]\n",
      "100%|██████████| 2000/2000 [00:15<00:00, 128.11it/s]\n",
      "100%|██████████| 2000/2000 [00:15<00:00, 128.13it/s]\n",
      "100%|██████████| 2000/2000 [00:15<00:00, 126.89it/s]\n",
      "100%|██████████| 2000/2000 [00:15<00:00, 127.72it/s]\n",
      "100%|██████████| 2000/2000 [00:15<00:00, 125.43it/s]\n",
      "100%|██████████| 2000/2000 [00:15<00:00, 129.35it/s]\n",
      "100%|██████████| 2000/2000 [00:15<00:00, 126.93it/s]\n",
      "100%|██████████| 2000/2000 [00:15<00:00, 127.46it/s]\n",
      "100%|██████████| 2000/2000 [00:15<00:00, 126.39it/s]\n",
      "100%|██████████| 2000/2000 [00:15<00:00, 127.29it/s]\n",
      "100%|██████████| 2000/2000 [00:15<00:00, 126.21it/s]\n",
      "100%|██████████| 2000/2000 [00:15<00:00, 127.93it/s]\n",
      "100%|██████████| 2000/2000 [00:15<00:00, 127.53it/s]\n",
      "100%|██████████| 2000/2000 [00:15<00:00, 126.81it/s]\n",
      "100%|██████████| 2000/2000 [00:15<00:00, 126.42it/s]\n",
      "100%|██████████| 2000/2000 [00:15<00:00, 128.03it/s]\n",
      "  2%|▏         | 36/2000 [00:00<00:11, 168.05it/s]"
     ]
    },
    {
     "name": "stdout",
     "output_type": "stream",
     "text": [
      "alpha: 0.001\n"
     ]
    },
    {
     "name": "stderr",
     "output_type": "stream",
     "text": [
      "100%|██████████| 2000/2000 [00:14<00:00, 133.67it/s]\n",
      "100%|██████████| 2000/2000 [00:15<00:00, 132.63it/s]\n",
      "100%|██████████| 2000/2000 [00:15<00:00, 130.50it/s]\n",
      "100%|██████████| 2000/2000 [00:15<00:00, 128.03it/s]\n",
      "100%|██████████| 2000/2000 [00:13<00:00, 143.94it/s]\n",
      "100%|██████████| 2000/2000 [00:15<00:00, 132.26it/s]\n",
      "100%|██████████| 2000/2000 [00:15<00:00, 127.36it/s]\n",
      "100%|██████████| 2000/2000 [00:15<00:00, 128.88it/s]\n",
      "100%|██████████| 2000/2000 [00:15<00:00, 131.09it/s]\n",
      "100%|██████████| 2000/2000 [00:15<00:00, 129.28it/s]\n",
      "100%|██████████| 2000/2000 [00:14<00:00, 141.44it/s]\n",
      "100%|██████████| 2000/2000 [00:15<00:00, 126.96it/s]\n",
      "100%|██████████| 2000/2000 [00:16<00:00, 123.02it/s]\n",
      "100%|██████████| 2000/2000 [00:15<00:00, 129.42it/s]\n",
      "100%|██████████| 2000/2000 [00:14<00:00, 133.55it/s]\n",
      "100%|██████████| 2000/2000 [00:15<00:00, 129.53it/s]\n",
      "100%|██████████| 2000/2000 [00:16<00:00, 124.90it/s]\n",
      "100%|██████████| 2000/2000 [00:15<00:00, 127.14it/s]\n",
      "100%|██████████| 2000/2000 [00:15<00:00, 128.35it/s]\n",
      "100%|██████████| 2000/2000 [00:14<00:00, 141.02it/s]\n"
     ]
    },
    {
     "data": {
      "image/png": "[encoded data removed]",
      "text/plain": [
       "<Figure size 432x288 with 1 Axes>"
      ]
     },
     "metadata": {
      "needs_background": "light"
     },
     "output_type": "display_data"
    }
   ],
   "source": [
    "num_trials = 20\n",
    "cp = CartPole()\n",
    "\n",
    "for approach in ['epsilon-greedy', 'softmax'][1:]:\n",
    "    for alpha in [0.1, 0.01, 0.001]:\n",
    "        print('alpha:', alpha)\n",
    "        alg = ESGNStepSARSA(cp, M=10, n=5, alpha=alpha, epsilon=0.1, approach=approach)\n",
    "        Gs = np.zeros(alg.num_episodes)\n",
    "\n",
    "        for _ in range(num_trials):\n",
    "            alg.reset()\n",
    "            Gs += np.array(alg.run())\n",
    "\n",
    "        Gs /= num_trials\n",
    "\n",
    "        plt.clf()\n",
    "        plt.plot(range(len(Gs)), Gs)\n",
    "        plt.savefig(f'experiments/nStepSARSA/CartPole/alpha-{alpha}-{approach}.png', facecolor='white')"
   ]
  }
 ],
 "metadata": {
  "kernelspec": {
   "display_name": ".venv",
   "language": "python",
   "name": "python3"
  },
  "language_info": {
   "codemirror_mode": {
    "name": "ipython",
    "version": 3
   },
   "file_extension": ".py",
   "mimetype": "text/x-python",
   "name": "python",
   "nbconvert_exporter": "python",
   "pygments_lexer": "ipython3",
   "version": "3.8.5"
  }
 },
 "nbformat": 4,
 "nbformat_minor": 2
}
