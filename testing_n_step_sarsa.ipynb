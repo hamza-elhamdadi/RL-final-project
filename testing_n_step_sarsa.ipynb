{
 "cells": [
  {
   "cell_type": "code",
   "execution_count": 1,
   "metadata": {},
   "outputs": [],
   "source": [
    "from MDP import MountainCar, CartPole\n",
    "from RLAlgorithms import ESGNStepSARSA, TrueOnlineSARSALambda\n",
    "import matplotlib.pyplot as plt\n",
    "import numpy as np"
   ]
  },
  {
   "cell_type": "code",
   "execution_count": null,
   "metadata": {},
   "outputs": [],
   "source": [
    "num_trials = 20\n",
    "cp = CartPole()\n",
    "\n",
    "for M in range(3,28,5):\n",
    "    alg = ESGNStepSARSA(cp, M=10, n=5)\n",
    "    Gs = np.zeros(alg.num_episodes)\n",
    "\n",
    "    for _ in range(num_trials):\n",
    "        alg.reset()\n",
    "        Gs += np.array(alg.run())\n",
    "\n",
    "    Gs /= num_trials\n",
    "\n",
    "    plt.clf()\n",
    "    plt.plot(range(len(Gs)), Gs)\n",
    "    plt.savefig(f'experiments/nStepSARSA/CartPole/alpha-{alpha}-{approach}.png', facecolor='white')"
   ]
  },
  {
   "cell_type": "code",
   "execution_count": 3,
   "metadata": {},
   "outputs": [
    {
     "name": "stderr",
     "output_type": "stream",
     "text": [
      "  0%|          | 9/2000 [00:00<00:23, 84.42it/s]"
     ]
    },
    {
     "name": "stdout",
     "output_type": "stream",
     "text": [
      "alpha: 0.5\n"
     ]
    },
    {
     "name": "stderr",
     "output_type": "stream",
     "text": [
      "100%|██████████| 2000/2000 [00:09<00:00, 202.14it/s]\n",
      "100%|██████████| 2000/2000 [00:09<00:00, 207.59it/s]\n",
      "100%|██████████| 2000/2000 [00:09<00:00, 205.98it/s]\n",
      "100%|██████████| 2000/2000 [00:09<00:00, 202.89it/s]\n",
      "100%|██████████| 2000/2000 [00:09<00:00, 202.57it/s]\n",
      "100%|██████████| 2000/2000 [00:09<00:00, 202.45it/s]\n",
      "100%|██████████| 2000/2000 [00:09<00:00, 202.95it/s]\n",
      "100%|██████████| 2000/2000 [00:09<00:00, 201.84it/s]\n",
      "  5%|▍         | 92/2000 [00:00<00:11, 162.05it/s]/Users/irishlad98/Documents/classes/cs687/Final Project/RL-final-project/RLAlgorithms.py:118: RuntimeWarning: invalid value encountered in double_scalars\n",
      "  update = self.alpha*(G - self.qhat(states[tau], actions[tau])) * self.x(states[tau])\n",
      "100%|██████████| 2000/2000 [00:09<00:00, 201.45it/s]\n",
      "100%|██████████| 2000/2000 [00:09<00:00, 201.83it/s]\n",
      "100%|██████████| 2000/2000 [00:09<00:00, 201.63it/s]\n",
      "100%|██████████| 2000/2000 [00:09<00:00, 201.85it/s]\n",
      "100%|██████████| 2000/2000 [00:09<00:00, 202.81it/s]\n",
      "100%|██████████| 2000/2000 [00:10<00:00, 198.41it/s]\n",
      "100%|██████████| 2000/2000 [00:10<00:00, 199.40it/s]\n",
      "100%|██████████| 2000/2000 [00:10<00:00, 198.66it/s]\n",
      "100%|██████████| 2000/2000 [00:09<00:00, 205.20it/s]\n",
      "100%|██████████| 2000/2000 [00:09<00:00, 205.79it/s]\n",
      "100%|██████████| 2000/2000 [00:09<00:00, 205.56it/s]\n",
      "100%|██████████| 2000/2000 [00:09<00:00, 205.19it/s]\n",
      "  2%|▏         | 39/2000 [00:00<00:10, 188.80it/s]"
     ]
    },
    {
     "name": "stdout",
     "output_type": "stream",
     "text": [
      "alpha: 0.35\n"
     ]
    },
    {
     "name": "stderr",
     "output_type": "stream",
     "text": [
      "100%|██████████| 2000/2000 [00:09<00:00, 204.30it/s]\n",
      "100%|██████████| 2000/2000 [00:09<00:00, 204.63it/s]\n",
      "100%|██████████| 2000/2000 [00:10<00:00, 199.72it/s]\n",
      "100%|██████████| 2000/2000 [00:10<00:00, 198.64it/s]\n",
      "100%|██████████| 2000/2000 [00:10<00:00, 195.57it/s]\n",
      "100%|██████████| 2000/2000 [00:10<00:00, 197.78it/s]\n",
      "100%|██████████| 2000/2000 [00:10<00:00, 197.76it/s]\n",
      "100%|██████████| 2000/2000 [00:10<00:00, 196.04it/s]\n",
      "100%|██████████| 2000/2000 [00:09<00:00, 205.06it/s]\n",
      "100%|██████████| 2000/2000 [00:09<00:00, 206.21it/s]\n",
      "100%|██████████| 2000/2000 [00:09<00:00, 205.54it/s]\n",
      "100%|██████████| 2000/2000 [00:09<00:00, 206.45it/s]\n",
      "100%|██████████| 2000/2000 [00:09<00:00, 205.45it/s]\n",
      "100%|██████████| 2000/2000 [00:09<00:00, 205.52it/s]\n",
      "100%|██████████| 2000/2000 [00:09<00:00, 205.95it/s]\n",
      "100%|██████████| 2000/2000 [00:10<00:00, 198.46it/s]\n",
      "100%|██████████| 2000/2000 [00:10<00:00, 195.87it/s]\n",
      "100%|██████████| 2000/2000 [00:10<00:00, 185.32it/s]\n",
      "100%|██████████| 2000/2000 [00:10<00:00, 187.25it/s]\n",
      "100%|██████████| 2000/2000 [00:10<00:00, 181.88it/s]\n",
      "  1%|▏         | 29/2000 [00:00<00:14, 140.03it/s]"
     ]
    },
    {
     "name": "stdout",
     "output_type": "stream",
     "text": [
      "alpha: 0.1\n"
     ]
    },
    {
     "name": "stderr",
     "output_type": "stream",
     "text": [
      "100%|██████████| 2000/2000 [00:15<00:00, 130.76it/s]\n",
      "100%|██████████| 2000/2000 [00:14<00:00, 136.82it/s]\n",
      "100%|██████████| 2000/2000 [00:14<00:00, 139.75it/s]\n",
      "100%|██████████| 2000/2000 [00:14<00:00, 141.31it/s]\n",
      "100%|██████████| 2000/2000 [00:13<00:00, 146.72it/s]\n",
      "100%|██████████| 2000/2000 [00:14<00:00, 142.78it/s]\n",
      "100%|██████████| 2000/2000 [00:14<00:00, 138.43it/s]\n",
      "100%|██████████| 2000/2000 [00:13<00:00, 143.47it/s]\n",
      "100%|██████████| 2000/2000 [00:13<00:00, 147.84it/s]\n",
      "100%|██████████| 2000/2000 [00:13<00:00, 148.42it/s]\n",
      "100%|██████████| 2000/2000 [00:14<00:00, 140.86it/s]\n",
      "100%|██████████| 2000/2000 [00:14<00:00, 142.49it/s]\n",
      "100%|██████████| 2000/2000 [00:13<00:00, 147.83it/s]\n",
      "100%|██████████| 2000/2000 [00:13<00:00, 145.29it/s]\n",
      "100%|██████████| 2000/2000 [00:14<00:00, 138.68it/s]\n",
      "100%|██████████| 2000/2000 [00:14<00:00, 140.61it/s]\n",
      "100%|██████████| 2000/2000 [00:13<00:00, 151.46it/s]\n",
      "100%|██████████| 2000/2000 [00:14<00:00, 141.18it/s]\n",
      "100%|██████████| 2000/2000 [00:13<00:00, 147.68it/s]\n",
      "100%|██████████| 2000/2000 [00:14<00:00, 141.77it/s]\n",
      "  2%|▏         | 30/2000 [00:00<00:13, 144.13it/s]"
     ]
    },
    {
     "name": "stdout",
     "output_type": "stream",
     "text": [
      "alpha: 0.01\n"
     ]
    },
    {
     "name": "stderr",
     "output_type": "stream",
     "text": [
      "100%|██████████| 2000/2000 [00:18<00:00, 109.43it/s]\n",
      "100%|██████████| 2000/2000 [00:17<00:00, 113.26it/s]\n",
      "100%|██████████| 2000/2000 [00:34<00:00, 57.90it/s] \n",
      "100%|██████████| 2000/2000 [00:20<00:00, 97.69it/s] \n",
      "100%|██████████| 2000/2000 [00:21<00:00, 93.14it/s] \n",
      "100%|██████████| 2000/2000 [00:18<00:00, 108.40it/s]\n",
      "100%|██████████| 2000/2000 [00:18<00:00, 108.00it/s]\n",
      "100%|██████████| 2000/2000 [00:18<00:00, 106.32it/s]\n",
      "100%|██████████| 2000/2000 [00:25<00:00, 78.51it/s] \n",
      "100%|██████████| 2000/2000 [00:18<00:00, 108.73it/s]\n",
      "100%|██████████| 2000/2000 [00:20<00:00, 98.30it/s] \n",
      "100%|██████████| 2000/2000 [00:18<00:00, 108.50it/s]\n",
      "100%|██████████| 2000/2000 [00:17<00:00, 117.46it/s]\n",
      "100%|██████████| 2000/2000 [00:18<00:00, 105.54it/s]\n",
      "100%|██████████| 2000/2000 [00:18<00:00, 107.62it/s]\n",
      "100%|██████████| 2000/2000 [00:18<00:00, 110.98it/s]\n",
      "100%|██████████| 2000/2000 [00:24<00:00, 83.16it/s] \n",
      "100%|██████████| 2000/2000 [00:38<00:00, 51.93it/s]\n",
      "100%|██████████| 2000/2000 [00:20<00:00, 96.08it/s] \n",
      "100%|██████████| 2000/2000 [00:21<00:00, 93.41it/s] \n",
      "  1%|          | 19/2000 [00:00<00:10, 189.32it/s]"
     ]
    },
    {
     "name": "stdout",
     "output_type": "stream",
     "text": [
      "alpha: 0.001\n"
     ]
    },
    {
     "name": "stderr",
     "output_type": "stream",
     "text": [
      "100%|██████████| 2000/2000 [00:14<00:00, 136.15it/s]\n",
      "100%|██████████| 2000/2000 [00:14<00:00, 133.62it/s]\n",
      "100%|██████████| 2000/2000 [00:15<00:00, 129.14it/s]\n",
      "100%|██████████| 2000/2000 [00:15<00:00, 128.47it/s]\n",
      "100%|██████████| 2000/2000 [00:14<00:00, 137.24it/s]\n",
      "100%|██████████| 2000/2000 [00:14<00:00, 140.48it/s]\n",
      "100%|██████████| 2000/2000 [00:15<00:00, 132.23it/s]\n",
      "100%|██████████| 2000/2000 [00:14<00:00, 141.37it/s]\n",
      "100%|██████████| 2000/2000 [00:14<00:00, 139.21it/s]\n",
      "100%|██████████| 2000/2000 [00:15<00:00, 130.14it/s]\n",
      "100%|██████████| 2000/2000 [00:15<00:00, 133.08it/s]\n",
      "100%|██████████| 2000/2000 [00:15<00:00, 132.24it/s]\n",
      "100%|██████████| 2000/2000 [00:15<00:00, 131.54it/s]\n",
      "100%|██████████| 2000/2000 [00:14<00:00, 133.68it/s]\n",
      "100%|██████████| 2000/2000 [00:14<00:00, 133.78it/s]\n",
      "100%|██████████| 2000/2000 [00:14<00:00, 137.16it/s]\n",
      "100%|██████████| 2000/2000 [00:14<00:00, 141.00it/s]\n",
      "100%|██████████| 2000/2000 [00:14<00:00, 134.43it/s]\n",
      "100%|██████████| 2000/2000 [00:15<00:00, 128.77it/s]\n",
      "100%|██████████| 2000/2000 [00:15<00:00, 126.56it/s]\n",
      "  2%|▏         | 36/2000 [00:00<00:11, 176.28it/s]"
     ]
    },
    {
     "name": "stdout",
     "output_type": "stream",
     "text": [
      "alpha: 0.5\n"
     ]
    },
    {
     "name": "stderr",
     "output_type": "stream",
     "text": [
      "100%|██████████| 2000/2000 [00:10<00:00, 186.13it/s]\n",
      "100%|██████████| 2000/2000 [00:10<00:00, 191.23it/s]\n",
      "  4%|▍         | 88/2000 [00:00<00:11, 170.09it/s]/Users/irishlad98/Documents/classes/cs687/Final Project/RL-final-project/RLAlgorithms.py:118: RuntimeWarning: invalid value encountered in double_scalars\n",
      "  update = self.alpha*(G - self.qhat(states[tau], actions[tau])) * self.x(states[tau])\n",
      "100%|██████████| 2000/2000 [00:10<00:00, 183.76it/s]\n",
      "100%|██████████| 2000/2000 [00:10<00:00, 195.41it/s]\n",
      "100%|██████████| 2000/2000 [00:10<00:00, 183.78it/s]\n",
      "100%|██████████| 2000/2000 [00:11<00:00, 178.25it/s]\n",
      "100%|██████████| 2000/2000 [00:10<00:00, 190.73it/s]\n",
      "100%|██████████| 2000/2000 [00:10<00:00, 191.50it/s]\n",
      "100%|██████████| 2000/2000 [00:11<00:00, 179.84it/s]\n",
      "100%|██████████| 2000/2000 [00:10<00:00, 192.60it/s]\n",
      "100%|██████████| 2000/2000 [00:10<00:00, 192.05it/s]\n",
      "100%|██████████| 2000/2000 [00:10<00:00, 191.91it/s]\n",
      "100%|██████████| 2000/2000 [00:10<00:00, 191.67it/s]\n",
      "100%|██████████| 2000/2000 [00:10<00:00, 191.80it/s]\n",
      "100%|██████████| 2000/2000 [00:10<00:00, 191.83it/s]\n",
      "100%|██████████| 2000/2000 [00:10<00:00, 187.70it/s]\n",
      "100%|██████████| 2000/2000 [00:10<00:00, 183.36it/s]\n",
      "100%|██████████| 2000/2000 [00:11<00:00, 180.54it/s]\n",
      "100%|██████████| 2000/2000 [00:10<00:00, 184.60it/s]\n",
      "100%|██████████| 2000/2000 [00:10<00:00, 191.64it/s]\n",
      "  1%|          | 20/2000 [00:00<00:10, 195.84it/s]"
     ]
    },
    {
     "name": "stdout",
     "output_type": "stream",
     "text": [
      "alpha: 0.35\n"
     ]
    },
    {
     "name": "stderr",
     "output_type": "stream",
     "text": [
      "100%|██████████| 2000/2000 [00:11<00:00, 177.38it/s]\n",
      "100%|██████████| 2000/2000 [00:11<00:00, 180.01it/s]\n",
      "100%|██████████| 2000/2000 [00:11<00:00, 181.39it/s]\n",
      "100%|██████████| 2000/2000 [00:11<00:00, 177.77it/s]\n",
      "100%|██████████| 2000/2000 [00:11<00:00, 176.36it/s]\n",
      "100%|██████████| 2000/2000 [00:10<00:00, 186.20it/s]\n",
      "100%|██████████| 2000/2000 [00:10<00:00, 193.11it/s]\n",
      "100%|██████████| 2000/2000 [00:11<00:00, 178.33it/s]\n",
      "100%|██████████| 2000/2000 [00:11<00:00, 179.93it/s]\n",
      "100%|██████████| 2000/2000 [00:10<00:00, 182.37it/s]\n",
      "100%|██████████| 2000/2000 [00:10<00:00, 183.79it/s]\n",
      "100%|██████████| 2000/2000 [00:11<00:00, 177.87it/s]\n",
      "100%|██████████| 2000/2000 [00:10<00:00, 184.75it/s]\n",
      "100%|██████████| 2000/2000 [00:11<00:00, 180.85it/s]\n",
      "100%|██████████| 2000/2000 [00:10<00:00, 190.34it/s]\n",
      "100%|██████████| 2000/2000 [00:10<00:00, 191.28it/s]\n",
      "100%|██████████| 2000/2000 [00:10<00:00, 192.85it/s]\n",
      "100%|██████████| 2000/2000 [00:10<00:00, 191.81it/s]\n",
      "100%|██████████| 2000/2000 [00:10<00:00, 192.23it/s]\n",
      "100%|██████████| 2000/2000 [00:10<00:00, 193.50it/s]\n",
      "  1%|▏         | 28/2000 [00:00<00:16, 120.23it/s]"
     ]
    },
    {
     "name": "stdout",
     "output_type": "stream",
     "text": [
      "alpha: 0.1\n"
     ]
    },
    {
     "name": "stderr",
     "output_type": "stream",
     "text": [
      "100%|██████████| 2000/2000 [00:15<00:00, 129.32it/s]\n",
      "100%|██████████| 2000/2000 [00:15<00:00, 126.70it/s]\n",
      "100%|██████████| 2000/2000 [00:13<00:00, 151.21it/s]\n",
      "100%|██████████| 2000/2000 [00:13<00:00, 147.79it/s]\n",
      "100%|██████████| 2000/2000 [00:14<00:00, 138.84it/s]\n",
      "100%|██████████| 2000/2000 [00:16<00:00, 121.88it/s]\n",
      "100%|██████████| 2000/2000 [00:16<00:00, 118.35it/s]\n",
      "100%|██████████| 2000/2000 [00:16<00:00, 121.91it/s]\n",
      "100%|██████████| 2000/2000 [00:13<00:00, 143.25it/s]\n",
      "100%|██████████| 2000/2000 [00:14<00:00, 139.77it/s]\n",
      "100%|██████████| 2000/2000 [00:13<00:00, 143.05it/s]\n",
      "100%|██████████| 2000/2000 [00:14<00:00, 141.67it/s]\n",
      "100%|██████████| 2000/2000 [00:13<00:00, 146.38it/s]\n",
      "100%|██████████| 2000/2000 [00:15<00:00, 131.40it/s]\n",
      "100%|██████████| 2000/2000 [00:14<00:00, 141.79it/s]\n",
      "100%|██████████| 2000/2000 [00:14<00:00, 139.90it/s]\n",
      "100%|██████████| 2000/2000 [00:13<00:00, 144.57it/s]\n",
      "100%|██████████| 2000/2000 [00:14<00:00, 140.04it/s]\n",
      "100%|██████████| 2000/2000 [00:13<00:00, 147.22it/s]\n",
      "100%|██████████| 2000/2000 [00:13<00:00, 151.79it/s]\n",
      "  2%|▏         | 41/2000 [00:00<00:09, 201.64it/s]"
     ]
    },
    {
     "name": "stdout",
     "output_type": "stream",
     "text": [
      "alpha: 0.01\n"
     ]
    },
    {
     "name": "stderr",
     "output_type": "stream",
     "text": [
      "100%|██████████| 2000/2000 [00:28<00:00, 69.80it/s] \n",
      "100%|██████████| 2000/2000 [00:21<00:00, 93.98it/s] \n",
      "100%|██████████| 2000/2000 [00:18<00:00, 108.34it/s]\n",
      "100%|██████████| 2000/2000 [00:19<00:00, 104.12it/s]\n",
      "100%|██████████| 2000/2000 [00:18<00:00, 109.24it/s]\n",
      "100%|██████████| 2000/2000 [00:20<00:00, 95.85it/s] \n",
      "100%|██████████| 2000/2000 [00:16<00:00, 119.07it/s]\n",
      "100%|██████████| 2000/2000 [00:18<00:00, 111.09it/s]\n",
      "100%|██████████| 2000/2000 [00:47<00:00, 42.01it/s]\n",
      "100%|██████████| 2000/2000 [00:17<00:00, 111.19it/s]\n",
      "100%|██████████| 2000/2000 [00:17<00:00, 113.11it/s]\n",
      "100%|██████████| 2000/2000 [00:18<00:00, 107.98it/s]\n",
      "100%|██████████| 2000/2000 [00:17<00:00, 111.95it/s]\n",
      "100%|██████████| 2000/2000 [00:18<00:00, 108.52it/s]\n",
      "100%|██████████| 2000/2000 [00:16<00:00, 123.21it/s]\n",
      "100%|██████████| 2000/2000 [00:18<00:00, 111.04it/s]\n",
      "100%|██████████| 2000/2000 [00:17<00:00, 113.24it/s]\n",
      "100%|██████████| 2000/2000 [00:18<00:00, 109.03it/s]\n",
      "100%|██████████| 2000/2000 [00:18<00:00, 106.67it/s]\n",
      "100%|██████████| 2000/2000 [00:17<00:00, 113.50it/s]\n",
      "  1%|          | 20/2000 [00:00<00:09, 199.54it/s]"
     ]
    },
    {
     "name": "stdout",
     "output_type": "stream",
     "text": [
      "alpha: 0.001\n"
     ]
    },
    {
     "name": "stderr",
     "output_type": "stream",
     "text": [
      "100%|██████████| 2000/2000 [00:14<00:00, 135.81it/s]\n",
      "100%|██████████| 2000/2000 [00:13<00:00, 152.25it/s]\n",
      "100%|██████████| 2000/2000 [00:14<00:00, 139.82it/s]\n",
      "100%|██████████| 2000/2000 [00:14<00:00, 137.45it/s]\n",
      "100%|██████████| 2000/2000 [00:14<00:00, 134.12it/s]\n",
      "100%|██████████| 2000/2000 [00:14<00:00, 141.35it/s]\n",
      "100%|██████████| 2000/2000 [00:14<00:00, 135.71it/s]\n",
      "100%|██████████| 2000/2000 [00:14<00:00, 142.60it/s]\n",
      "100%|██████████| 2000/2000 [00:14<00:00, 140.29it/s]\n",
      "100%|██████████| 2000/2000 [00:14<00:00, 141.25it/s]\n",
      "100%|██████████| 2000/2000 [00:14<00:00, 134.53it/s]\n",
      "100%|██████████| 2000/2000 [00:16<00:00, 119.73it/s]\n",
      "100%|██████████| 2000/2000 [00:16<00:00, 122.18it/s]\n",
      "100%|██████████| 2000/2000 [00:17<00:00, 114.27it/s]\n",
      "100%|██████████| 2000/2000 [00:17<00:00, 117.16it/s]\n",
      "100%|██████████| 2000/2000 [00:14<00:00, 133.39it/s]\n",
      "100%|██████████| 2000/2000 [00:16<00:00, 122.45it/s]\n",
      "100%|██████████| 2000/2000 [00:15<00:00, 125.73it/s]\n",
      "100%|██████████| 2000/2000 [00:13<00:00, 144.48it/s]\n",
      "100%|██████████| 2000/2000 [00:13<00:00, 145.38it/s]\n"
     ]
    },
    {
     "data": {
      "image/png": "[encoded data removed]",
      "text/plain": [
       "<Figure size 432x288 with 1 Axes>"
      ]
     },
     "metadata": {
      "needs_background": "light"
     },
     "output_type": "display_data"
    }
   ],
   "source": [
    "num_trials = 20\n",
    "cp = CartPole()\n",
    "\n",
    "for approach in ['epsilon-greedy', 'softmax']:\n",
    "    for alpha in [0.5, 0.35, 0.1, 0.01, 0.001]:\n",
    "        print('alpha:', alpha)\n",
    "        alg = ESGNStepSARSA(cp, M=10, n=5, alpha=alpha, epsilon=0.1, approach=approach)\n",
    "        Gs = np.zeros(alg.num_episodes)\n",
    "\n",
    "        for _ in range(num_trials):\n",
    "            alg.reset()\n",
    "            Gs += np.array(alg.run())\n",
    "\n",
    "        Gs /= num_trials\n",
    "\n",
    "        plt.clf()\n",
    "        plt.plot(range(len(Gs)), Gs)\n",
    "        plt.savefig(f'experiments/nStepSARSA/CartPole/alpha-{alpha}-{approach}.png', facecolor='white')"
   ]
  }
 ],
 "metadata": {
  "kernelspec": {
   "display_name": ".venv",
   "language": "python",
   "name": "python3"
  },
  "language_info": {
   "codemirror_mode": {
    "name": "ipython",
    "version": 3
   },
   "file_extension": ".py",
   "mimetype": "text/x-python",
   "name": "python",
   "nbconvert_exporter": "python",
   "pygments_lexer": "ipython3",
   "version": "3.8.5"
  }
 },
 "nbformat": 4,
 "nbformat_minor": 2
}
