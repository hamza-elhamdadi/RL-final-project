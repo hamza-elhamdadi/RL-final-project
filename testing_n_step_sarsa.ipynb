{
 "cells": [
  {
   "cell_type": "code",
   "execution_count": 1,
   "metadata": {},
   "outputs": [],
   "source": [
    "from MDP import MountainCar, CartPole\n",
    "from RLAlgorithms import ESGNStepSARSA, TrueOnlineSARSALambda\n",
    "import matplotlib.pyplot as plt\n",
    "import numpy as np"
   ]
  },
  {
   "cell_type": "code",
   "execution_count": 4,
   "metadata": {},
   "outputs": [
    {
     "name": "stderr",
     "output_type": "stream",
     "text": [
      "  2%|▏         | 32/2000 [00:00<00:12, 151.51it/s]"
     ]
    },
    {
     "name": "stdout",
     "output_type": "stream",
     "text": [
      "n value: 2\n"
     ]
    },
    {
     "name": "stderr",
     "output_type": "stream",
     "text": [
      "100%|██████████| 2000/2000 [00:19<00:00, 101.73it/s]\n",
      "100%|██████████| 2000/2000 [00:21<00:00, 93.41it/s] \n",
      "100%|██████████| 2000/2000 [00:20<00:00, 97.62it/s] \n",
      "100%|██████████| 2000/2000 [00:22<00:00, 88.26it/s] \n",
      "100%|██████████| 2000/2000 [00:21<00:00, 93.55it/s] \n",
      "  1%|          | 20/2000 [00:00<00:10, 192.53it/s]"
     ]
    },
    {
     "name": "stdout",
     "output_type": "stream",
     "text": [
      "n value: 4\n"
     ]
    },
    {
     "name": "stderr",
     "output_type": "stream",
     "text": [
      "100%|██████████| 2000/2000 [00:20<00:00, 98.83it/s] \n",
      "100%|██████████| 2000/2000 [00:19<00:00, 101.43it/s]\n",
      "100%|██████████| 2000/2000 [00:20<00:00, 96.56it/s] \n",
      " 53%|█████▎    | 1053/2000 [00:10<00:08, 107.00it/s]"
     ]
    }
   ],
   "source": [
    "num_trials = 5\n",
    "cp = CartPole()\n",
    "\n",
    "for approach in ['epsilon-greedy', 'softmax']:\n",
    "    for n in range(2, 9, 2):\n",
    "        print('n value:',n)\n",
    "        alg = ESGNStepSARSA(cp, M=10, n=n, alpha=0.01, epsilon=0.1, approach=approach)\n",
    "        Gs = np.zeros(alg.num_episodes)\n",
    "\n",
    "        for _ in range(num_trials):\n",
    "            alg.reset()\n",
    "            Gs += np.array(alg.run())\n",
    "\n",
    "        Gs /= num_trials\n",
    "\n",
    "        plt.clf()\n",
    "        plt.plot(range(len(Gs)), Gs)\n",
    "        plt.savefig(f'experiments/nStepSARSA/CartPole/n-{n}-{approach}.png', facecolor='white')"
   ]
  }
 ],
 "metadata": {
  "kernelspec": {
   "display_name": ".venv",
   "language": "python",
   "name": "python3"
  },
  "language_info": {
   "codemirror_mode": {
    "name": "ipython",
    "version": 3
   },
   "file_extension": ".py",
   "mimetype": "text/x-python",
   "name": "python",
   "nbconvert_exporter": "python",
   "pygments_lexer": "ipython3",
   "version": "3.8.5"
  }
 },
 "nbformat": 4,
 "nbformat_minor": 2
}
