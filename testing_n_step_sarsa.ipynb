{
 "cells": [
  {
   "cell_type": "code",
   "execution_count": 1,
   "metadata": {},
   "outputs": [],
   "source": [
    "from MDP import MountainCar, CartPole\n",
    "from RLAlgorithms import ESGNStepSARSA, TrueOnlineSARSALambda\n",
    "import matplotlib.pyplot as plt\n",
    "import numpy as np"
   ]
  },
  {
   "cell_type": "code",
   "execution_count": 5,
   "metadata": {},
   "outputs": [
    {
     "name": "stderr",
     "output_type": "stream",
     "text": [
      "  1%|▏         | 25/2000 [00:00<00:16, 118.02it/s]"
     ]
    },
    {
     "name": "stdout",
     "output_type": "stream",
     "text": [
      "n value: 2\n"
     ]
    },
    {
     "name": "stderr",
     "output_type": "stream",
     "text": [
      "100%|██████████| 2000/2000 [00:14<00:00, 135.02it/s]\n",
      "100%|██████████| 2000/2000 [00:14<00:00, 136.00it/s]\n",
      "100%|██████████| 2000/2000 [00:14<00:00, 135.67it/s]\n",
      "100%|██████████| 2000/2000 [00:14<00:00, 135.87it/s]\n",
      "100%|██████████| 2000/2000 [00:14<00:00, 135.00it/s]\n",
      "  1%|▏         | 27/2000 [00:00<00:15, 130.50it/s]"
     ]
    },
    {
     "name": "stdout",
     "output_type": "stream",
     "text": [
      "n value: 4\n"
     ]
    },
    {
     "name": "stderr",
     "output_type": "stream",
     "text": [
      "100%|██████████| 2000/2000 [00:14<00:00, 135.86it/s]\n",
      "100%|██████████| 2000/2000 [00:14<00:00, 137.30it/s]\n",
      "100%|██████████| 2000/2000 [00:14<00:00, 137.74it/s]\n",
      "100%|██████████| 2000/2000 [00:15<00:00, 133.21it/s]\n",
      "100%|██████████| 2000/2000 [00:15<00:00, 130.86it/s]\n",
      "  1%|▏         | 29/2000 [00:00<00:14, 137.15it/s]"
     ]
    },
    {
     "name": "stdout",
     "output_type": "stream",
     "text": [
      "n value: 6\n"
     ]
    },
    {
     "name": "stderr",
     "output_type": "stream",
     "text": [
      "100%|██████████| 2000/2000 [00:14<00:00, 137.29it/s]\n",
      "100%|██████████| 2000/2000 [00:14<00:00, 140.18it/s]\n",
      "100%|██████████| 2000/2000 [00:14<00:00, 134.32it/s]\n",
      "100%|██████████| 2000/2000 [00:14<00:00, 142.72it/s]\n",
      "100%|██████████| 2000/2000 [00:14<00:00, 140.16it/s]\n",
      "  1%|▏         | 27/2000 [00:00<00:15, 131.04it/s]"
     ]
    },
    {
     "name": "stdout",
     "output_type": "stream",
     "text": [
      "n value: 8\n"
     ]
    },
    {
     "name": "stderr",
     "output_type": "stream",
     "text": [
      "100%|██████████| 2000/2000 [00:13<00:00, 144.90it/s]\n",
      "100%|██████████| 2000/2000 [00:14<00:00, 139.33it/s]\n",
      "100%|██████████| 2000/2000 [00:14<00:00, 140.11it/s]\n",
      "100%|██████████| 2000/2000 [00:14<00:00, 138.82it/s]\n",
      "100%|██████████| 2000/2000 [00:14<00:00, 134.88it/s]\n",
      "  1%|▏         | 25/2000 [00:00<00:16, 119.15it/s]"
     ]
    },
    {
     "name": "stdout",
     "output_type": "stream",
     "text": [
      "n value: 2\n"
     ]
    },
    {
     "name": "stderr",
     "output_type": "stream",
     "text": [
      "100%|██████████| 2000/2000 [00:11<00:00, 169.55it/s]\n",
      "100%|██████████| 2000/2000 [00:10<00:00, 185.40it/s]\n",
      "100%|██████████| 2000/2000 [00:11<00:00, 181.67it/s]\n",
      "100%|██████████| 2000/2000 [00:11<00:00, 178.07it/s]\n",
      "100%|██████████| 2000/2000 [00:10<00:00, 182.25it/s]\n",
      "  1%|▏         | 29/2000 [00:00<00:13, 140.83it/s]"
     ]
    },
    {
     "name": "stdout",
     "output_type": "stream",
     "text": [
      "n value: 4\n"
     ]
    },
    {
     "name": "stderr",
     "output_type": "stream",
     "text": [
      "100%|██████████| 2000/2000 [00:10<00:00, 184.40it/s]\n",
      "100%|██████████| 2000/2000 [00:10<00:00, 185.63it/s]\n",
      "100%|██████████| 2000/2000 [00:10<00:00, 193.26it/s]\n",
      "100%|██████████| 2000/2000 [00:10<00:00, 189.70it/s]\n",
      "100%|██████████| 2000/2000 [00:10<00:00, 188.87it/s]\n",
      "  1%|          | 13/2000 [00:00<00:16, 122.07it/s]"
     ]
    },
    {
     "name": "stdout",
     "output_type": "stream",
     "text": [
      "n value: 6\n"
     ]
    },
    {
     "name": "stderr",
     "output_type": "stream",
     "text": [
      "100%|██████████| 2000/2000 [00:10<00:00, 185.90it/s]\n",
      "100%|██████████| 2000/2000 [00:10<00:00, 192.33it/s]\n",
      "100%|██████████| 2000/2000 [00:10<00:00, 195.48it/s]\n",
      "100%|██████████| 2000/2000 [00:10<00:00, 193.02it/s]\n",
      "100%|██████████| 2000/2000 [00:10<00:00, 191.82it/s]\n",
      "  1%|          | 24/2000 [00:00<00:18, 107.78it/s]"
     ]
    },
    {
     "name": "stdout",
     "output_type": "stream",
     "text": [
      "n value: 8\n"
     ]
    },
    {
     "name": "stderr",
     "output_type": "stream",
     "text": [
      "100%|██████████| 2000/2000 [00:11<00:00, 180.45it/s]\n",
      "100%|██████████| 2000/2000 [00:11<00:00, 180.60it/s]\n",
      " 43%|████▎     | 868/2000 [00:04<00:06, 187.33it/s]"
     ]
    }
   ],
   "source": [
    "num_trials = 5\n",
    "cp = CartPole()\n",
    "# print(mc.s)\n",
    "# Hyperparameters n, alpha, M, approach\n",
    "for approach in ['epsilon-greedy', 'softmax']:\n",
    "    for n in range(2, 9, 2):\n",
    "        print('n value:',n)\n",
    "        alg = ESGNStepSARSA(cp, M=10, n=n, alpha=0.001, approach=approach)\n",
    "        Gs = np.zeros(alg.num_episodes)\n",
    "\n",
    "        for _ in range(num_trials):\n",
    "            alg.reset()\n",
    "            Gs += np.array(alg.run())\n",
    "\n",
    "        Gs /= num_trials\n",
    "\n",
    "        plt.clf()\n",
    "        plt.plot(range(len(Gs)), Gs)\n",
    "        plt.savefig(f'experiments/nStepSARSA/CartPole/n-{n}-{approach}.png', facecolor='white')"
   ]
  },
  {
   "cell_type": "code",
   "execution_count": null,
   "metadata": {},
   "outputs": [],
   "source": []
  }
 ],
 "metadata": {
  "kernelspec": {
   "display_name": ".venv",
   "language": "python",
   "name": "python3"
  },
  "language_info": {
   "codemirror_mode": {
    "name": "ipython",
    "version": 3
   },
   "file_extension": ".py",
   "mimetype": "text/x-python",
   "name": "python",
   "nbconvert_exporter": "python",
   "pygments_lexer": "ipython3",
   "version": "3.8.5"
  }
 },
 "nbformat": 4,
 "nbformat_minor": 2
}
