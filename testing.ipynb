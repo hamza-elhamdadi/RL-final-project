{
 "cells": [
  {
   "cell_type": "code",
   "execution_count": 3,
   "metadata": {},
   "outputs": [],
   "source": [
    "from MDP import MountainCar, CartPole\n",
    "from RLAlgorithms import ESGNStepSARSA, TrueOnlineSARSALambda"
   ]
  },
  {
   "cell_type": "code",
   "execution_count": 4,
   "metadata": {},
   "outputs": [
    {
     "ename": "TypeError",
     "evalue": "__init__() missing 1 required positional argument: 'n'",
     "output_type": "error",
     "traceback": [
      "\u001b[0;31m---------------------------------------------------------------------------\u001b[0m",
      "\u001b[0;31mTypeError\u001b[0m                                 Traceback (most recent call last)",
      "\u001b[1;32m/Users/irishlad98/Documents/classes/cs687/Final Project/RL-final-project/testing.ipynb Cell 2\u001b[0m line \u001b[0;36m3\n\u001b[1;32m      <a href='vscode-notebook-cell:/Users/irishlad98/Documents/classes/cs687/Final%20Project/RL-final-project/testing.ipynb#W1sZmlsZQ%3D%3D?line=0'>1</a>\u001b[0m mc \u001b[39m=\u001b[39m CartPole()\n\u001b[1;32m      <a href='vscode-notebook-cell:/Users/irishlad98/Documents/classes/cs687/Final%20Project/RL-final-project/testing.ipynb#W1sZmlsZQ%3D%3D?line=1'>2</a>\u001b[0m \u001b[39m# print(mc.s)\u001b[39;00m\n\u001b[0;32m----> <a href='vscode-notebook-cell:/Users/irishlad98/Documents/classes/cs687/Final%20Project/RL-final-project/testing.ipynb#W1sZmlsZQ%3D%3D?line=2'>3</a>\u001b[0m alg \u001b[39m=\u001b[39m ESGNStepSARSA(mc, M\u001b[39m=\u001b[39;49m\u001b[39m3\u001b[39;49m)\n\u001b[1;32m      <a href='vscode-notebook-cell:/Users/irishlad98/Documents/classes/cs687/Final%20Project/RL-final-project/testing.ipynb#W1sZmlsZQ%3D%3D?line=4'>5</a>\u001b[0m alg\u001b[39m.\u001b[39mrun()\n",
      "\u001b[0;31mTypeError\u001b[0m: __init__() missing 1 required positional argument: 'n'"
     ]
    }
   ],
   "source": [
    "mc = CartPole()\n",
    "# print(mc.s)\n",
    "alg = ESGNStepSARSA(mc, M=3, n=2)\n",
    "\n",
    "alg.run()"
   ]
  },
  {
   "cell_type": "code",
   "execution_count": null,
   "metadata": {},
   "outputs": [],
   "source": []
  },
  {
   "cell_type": "code",
   "execution_count": 3,
   "metadata": {},
   "outputs": [
    {
     "name": "stdout",
     "output_type": "stream",
     "text": [
      "9.0\n"
     ]
    }
   ],
   "source": [
    "mc.reset()\n",
    "G = 0\n",
    "while not mc.is_terminal():\n",
    "    mc.next_state(alg.next_action(mc.s))\n",
    "    G += mc.reward()\n",
    "print(G)"
   ]
  },
  {
   "cell_type": "code",
   "execution_count": 3,
   "metadata": {},
   "outputs": [
    {
     "data": {
      "text/plain": [
       "-8.99998283846267"
      ]
     },
     "execution_count": 3,
     "metadata": {},
     "output_type": "execute_result"
    }
   ],
   "source": [
    "mc = MountainCar()\n",
    "mc.run_episode(lambda x: -1 if x[1] < 0 else 1)"
   ]
  }
 ],
 "metadata": {
  "kernelspec": {
   "display_name": "base",
   "language": "python",
   "name": "python3"
  },
  "language_info": {
   "codemirror_mode": {
    "name": "ipython",
    "version": 3
   },
   "file_extension": ".py",
   "mimetype": "text/x-python",
   "name": "python",
   "nbconvert_exporter": "python",
   "pygments_lexer": "ipython3",
   "version": "3.8.18"
  }
 },
 "nbformat": 4,
 "nbformat_minor": 2
}
