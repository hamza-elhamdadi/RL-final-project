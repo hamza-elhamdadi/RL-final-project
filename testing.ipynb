{
 "cells": [
  {
   "cell_type": "code",
   "execution_count": 1,
   "metadata": {},
   "outputs": [],
   "source": [
    "from MDP import MountainCar, CartPole\n",
    "from RLAlgorithms import ESGNStepSARSA, TrueOnlineSARSALambda"
   ]
  },
  {
   "cell_type": "code",
   "execution_count": 2,
   "metadata": {},
   "outputs": [
    {
     "name": "stderr",
     "output_type": "stream",
     "text": [
      "100%|██████████| 10000/10000 [00:33<00:00, 299.68it/s]\n"
     ]
    }
   ],
   "source": [
    "mc = CartPole()\n",
    "# print(mc.s)\n",
    "alg = TrueOnlineSARSALambda(mc, M=10)\n",
    "\n",
    "alg.run()"
   ]
  },
  {
   "cell_type": "code",
   "execution_count": 3,
   "metadata": {},
   "outputs": [
    {
     "data": {
      "text/plain": [
       "array([[ 2.40601758e+10, -6.59927778e+07, -2.40886991e+10,\n",
       "         1.92707954e+08,  2.41734106e+10, -3.03746306e+08,\n",
       "        -2.43117559e+10,  3.89101124e+08,  2.44995465e+10,\n",
       "        -4.39421339e+08, -2.47310608e+10,  7.70149436e+09,\n",
       "        -1.73534693e+10, -1.67424746e+10,  3.68065252e+09,\n",
       "         1.35550312e+10,  5.11400845e+09, -4.67278817e+09,\n",
       "        -5.90185212e+09, -3.05558187e+09,  7.50715716e+08,\n",
       "         1.38630937e+08, -2.76482863e+10,  9.20195247e+09,\n",
       "         1.70880227e+10, -3.24927988e+09, -1.69622021e+10,\n",
       "        -6.07195526e+08,  2.18879202e+10, -4.38815260e+09,\n",
       "        -1.58139211e+10, -7.71612523e+09, -1.74175479e+10,\n",
       "         1.70807168e+10,  3.15686654e+09, -1.33930366e+10,\n",
       "         5.81201727e+09,  3.42163194e+09, -5.23511629e+09,\n",
       "         3.94482488e+09, -1.40763958e+09],\n",
       "       [-1.16005578e+11, -3.00925142e+08,  1.16002491e+11,\n",
       "         9.03769351e+08, -1.15993037e+11, -1.50956522e+09,\n",
       "         1.15976628e+11,  2.12018074e+09, -1.15952304e+11,\n",
       "        -2.73733648e+09,  1.15918751e+11, -1.58802759e+10,\n",
       "         1.04985723e+11,  3.85246076e+10, -7.96737193e+10,\n",
       "        -3.96418813e+10,  6.09921739e+10,  2.85905359e+10,\n",
       "        -5.93246772e+10, -2.54847264e+10,  6.15382891e+10,\n",
       "         5.35867716e+09,  1.13973556e+11, -1.71441049e+10,\n",
       "        -1.02667312e+11,  2.02974852e+10,  8.98812827e+10,\n",
       "        -1.42050551e+10, -8.25513209e+10,  3.16067660e+09,\n",
       "         8.43043143e+10,  1.61480164e+10,  1.04622314e+11,\n",
       "        -3.89345242e+10, -7.85209421e+10,  3.89544106e+10,\n",
       "         6.05068156e+10, -2.75839562e+10, -5.99615242e+10,\n",
       "         2.55062468e+10,  6.21616355e+10]])"
      ]
     },
     "execution_count": 3,
     "metadata": {},
     "output_type": "execute_result"
    }
   ],
   "source": [
    "mc.reset()\n",
    "G = 0\n",
    "while not mc.is_terminal():\n",
    "    mc.next_state(alg.next_action(mc.s))\n",
    "    G += mc.reward()\n",
    "print(G)"
   ]
  },
  {
   "cell_type": "code",
   "execution_count": 3,
   "metadata": {},
   "outputs": [
    {
     "data": {
      "text/plain": [
       "-8.99998283846267"
      ]
     },
     "execution_count": 3,
     "metadata": {},
     "output_type": "execute_result"
    }
   ],
   "source": [
    "mc = MountainCar()\n",
    "mc.run_episode(lambda x: -1 if x[1] < 0 else 1)"
   ]
  }
 ],
 "metadata": {
  "kernelspec": {
   "display_name": "base",
   "language": "python",
   "name": "python3"
  },
  "language_info": {
   "codemirror_mode": {
    "name": "ipython",
    "version": 3
   },
   "file_extension": ".py",
   "mimetype": "text/x-python",
   "name": "python",
   "nbconvert_exporter": "python",
   "pygments_lexer": "ipython3",
   "version": "3.8.18"
  }
 },
 "nbformat": 4,
 "nbformat_minor": 2
}
